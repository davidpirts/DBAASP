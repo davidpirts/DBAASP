{
 "cells": [
  {
   "cell_type": "markdown",
   "metadata": {},
   "source": [
    "# Unsupervised learning"
   ]
  },
  {
   "cell_type": "code",
   "execution_count": 312,
   "metadata": {},
   "outputs": [],
   "source": [
    "# Load the required packages\n",
    "import pandas as pd\n",
    "import numpy as np\n",
    "from matplotlib import pyplot as plt\n",
    "import seaborn as sns\n",
    "\n",
    "sns.set()\n",
    "\n",
    "fig_size = plt.rcParams[\"figure.figsize\"]\n",
    "fig_size[0] = 8\n",
    "fig_size[1] = 6\n",
    "plt.rcParams[\"figure.figsize\"] = fig_size"
   ]
  },
  {
   "cell_type": "code",
   "execution_count": 313,
   "metadata": {},
   "outputs": [
    {
     "name": "stdout",
     "output_type": "stream",
     "text": [
      "['Training_set_Staphiloccocus', 'Test_set_Staphiloccocus']\n"
     ]
    }
   ],
   "source": [
    "# Read the original file\n",
    "original_path = 'data/original.xlsx'\n",
    "orig_xls = pd.ExcelFile(original_path)\n",
    "print(orig_xls.sheet_names)"
   ]
  },
  {
   "cell_type": "code",
   "execution_count": 314,
   "metadata": {},
   "outputs": [],
   "source": [
    "# import the excel sheets separately\n",
    "df1 = orig_xls.parse('Training_set_Staphiloccocus')\n",
    "df2 = orig_xls.parse('Test_set_Staphiloccocus')"
   ]
  },
  {
   "cell_type": "code",
   "execution_count": 315,
   "metadata": {},
   "outputs": [
    {
     "name": "stdout",
     "output_type": "stream",
     "text": [
      "['Sheet1', 'Sheet2']\n"
     ]
    }
   ],
   "source": [
    "# import the extra data that we have\n",
    "additional_path = 'data/additional.xlsx'\n",
    "addit_xls = pd.ExcelFile(additional_path)\n",
    "print(addit_xls.sheet_names)"
   ]
  },
  {
   "cell_type": "code",
   "execution_count": 316,
   "metadata": {},
   "outputs": [],
   "source": [
    "# there is one more column -- 'Sequence', that we remove to match the rest of the data\n",
    "df3 = addit_xls.parse('Sheet1').drop(['Sequence'], axis=1)"
   ]
  },
  {
   "cell_type": "code",
   "execution_count": 317,
   "metadata": {},
   "outputs": [
    {
     "name": "stdout",
     "output_type": "stream",
     "text": [
      "(298, 13) (74, 13) (52, 13)\n"
     ]
    }
   ],
   "source": [
    "print(df1.shape, df2.shape, df3.shape)"
   ]
  },
  {
   "cell_type": "code",
   "execution_count": 318,
   "metadata": {},
   "outputs": [
    {
     "name": "stdout",
     "output_type": "stream",
     "text": [
      "<class 'pandas.core.frame.DataFrame'>\n",
      "RangeIndex: 424 entries, 0 to 423\n",
      "Data columns (total 13 columns):\n",
      " #   Column                                       Non-Null Count  Dtype  \n",
      "---  ------                                       --------------  -----  \n",
      " 0   Normalized Hydrophobic Moment                424 non-null    float64\n",
      " 1   Normalized Hydrophobicity                    424 non-null    float64\n",
      " 2   Net Charge                                   424 non-null    int64  \n",
      " 3   Isoelectric Point                            424 non-null    float64\n",
      " 4   Penetration Depth                            424 non-null    int64  \n",
      " 5   Tilt Angle                                   424 non-null    int64  \n",
      " 6   Propensity to Disordering                    424 non-null    float64\n",
      " 7   Linear Moment                                424 non-null    float64\n",
      " 8   Propensity to in vitro Aggregation           424 non-null    float64\n",
      " 9   Angle Subtended by the Hydrophobic Residues  424 non-null    int64  \n",
      " 10  Amphiphilicity Index                         424 non-null    float64\n",
      " 11  Propensity to Coil Conformation              424 non-null    float64\n",
      " 12  Class                                        424 non-null    int64  \n",
      "dtypes: float64(8), int64(5)\n",
      "memory usage: 43.2 KB\n"
     ]
    }
   ],
   "source": [
    "# merge the three excel sheets into the training + validation data + test\n",
    "df = pd.concat([df1, df2, df3], ignore_index=True)\n",
    "df = df.sample(frac=1).reset_index(drop=True)\n",
    "df.info()"
   ]
  },
  {
   "cell_type": "code",
   "execution_count": 319,
   "metadata": {},
   "outputs": [
    {
     "name": "stdout",
     "output_type": "stream",
     "text": [
      "(424, 12) (424,)\n"
     ]
    }
   ],
   "source": [
    "# define the feature matrix and labels\n",
    "X = df.drop(['Class'], axis=1).values\n",
    "y = df['Class'].values\n",
    "print(X.shape, y.shape)"
   ]
  },
  {
   "cell_type": "code",
   "execution_count": 320,
   "metadata": {},
   "outputs": [],
   "source": [
    "# standardize data\n",
    "# from sklearn.preprocessing import StandardScaler\n",
    "#scaler = StandardScaler() \n",
    "#X_std = scaler.fit_transform(X)"
   ]
  },
  {
   "cell_type": "markdown",
   "metadata": {},
   "source": [
    "### $\\color{red}{\\textbf{K-means}}$"
   ]
  },
  {
   "cell_type": "code",
   "execution_count": 321,
   "metadata": {},
   "outputs": [
    {
     "data": {
      "image/png": "[encoded data removed]",
      "text/plain": [
       "<Figure size 576x432 with 1 Axes>"
      ]
     },
     "metadata": {},
     "output_type": "display_data"
    }
   ],
   "source": [
    "from sklearn.cluster import KMeans\n",
    "\n",
    "inertia = {}\n",
    "for k in range(1, 10):\n",
    "    kmeans = KMeans(n_clusters=k, max_iter=10000).fit(X)\n",
    "    inertia[k] = kmeans.inertia_\n",
    "\n",
    "plt.plot(list(inertia.keys()), list(inertia.values()))\n",
    "plt.show()"
   ]
  },
  {
   "cell_type": "code",
   "execution_count": 322,
   "metadata": {},
   "outputs": [
    {
     "data": {
      "text/plain": [
       "array([0, 2, 2, 0, 1, 0, 2, 2, 1, 1, 1, 0, 0, 1, 0, 1, 2, 0, 2, 2, 0, 2,\n",
       "       0, 1, 2, 0, 2, 0, 0, 0, 0, 2, 2, 0, 1, 2, 2, 1, 2, 0, 0, 0, 2, 2,\n",
       "       1, 2, 0, 2, 0, 2, 1, 0, 0, 0, 2, 0, 1, 1, 0, 2, 2, 1, 2, 2, 2, 0,\n",
       "       1, 0, 0, 0, 1, 1, 2, 1, 2, 0, 0, 2, 0, 0, 1, 2, 2, 2, 2, 0, 2, 0,\n",
       "       1, 0, 0, 2, 2, 2, 2, 0, 2, 2, 1, 2, 2, 1, 1, 0, 2, 1, 2, 2, 2, 2,\n",
       "       0, 2, 2, 0, 1, 0, 0, 2, 0, 2, 0, 0, 0, 0, 0, 2, 0, 2, 2, 0, 2, 0,\n",
       "       0, 0, 1, 0, 0, 2, 2, 1, 2, 1, 0, 2, 1, 2, 1, 2, 1, 1, 0, 2, 0, 2,\n",
       "       2, 0, 1, 2, 2, 2, 0, 0, 2, 0, 1, 0, 2, 0, 0, 0, 0, 0, 2, 0, 0, 0,\n",
       "       2, 2, 2, 1, 0, 2, 0, 2, 0, 2, 2, 2, 0, 2, 2, 1, 2, 0, 2, 0, 0, 1,\n",
       "       2, 0, 0, 2, 0, 0, 1, 0, 2, 2, 2, 2, 2, 1, 0, 1, 2, 2, 2, 2, 1, 1,\n",
       "       1, 2, 0, 2, 1, 2, 1, 1, 0, 0, 1, 0, 2, 2, 0, 0, 0, 1, 0, 2, 1, 0,\n",
       "       0, 2, 1, 1, 0, 0, 2, 0, 2, 0, 0, 2, 2, 2, 2, 0, 0, 1, 1, 2, 2, 2,\n",
       "       0, 2, 2, 0, 2, 0, 0, 2, 0, 2, 2, 2, 2, 2, 0, 2, 2, 1, 0, 0, 0, 0,\n",
       "       1, 2, 2, 2, 1, 0, 2, 1, 2, 0, 2, 2, 2, 2, 1, 2, 0, 1, 2, 2, 0, 1,\n",
       "       2, 2, 1, 0, 0, 2, 0, 0, 2, 0, 2, 0, 0, 0, 2, 1, 1, 0, 0, 2, 0, 0,\n",
       "       2, 0, 0, 2, 1, 1, 1, 1, 2, 0, 2, 0, 2, 1, 2, 2, 2, 2, 2, 0, 0, 2,\n",
       "       1, 0, 2, 0, 2, 2, 0, 0, 2, 0, 1, 0, 2, 0, 0, 0, 2, 2, 0, 2, 0, 2,\n",
       "       1, 2, 2, 2, 2, 2, 0, 2, 0, 0, 1, 1, 2, 2, 1, 0, 2, 0, 0, 0, 2, 1,\n",
       "       2, 2, 2, 2, 2, 2, 0, 2, 1, 1, 0, 0, 1, 0, 2, 2, 2, 0, 1, 2, 0, 2,\n",
       "       0, 0, 0, 2, 1, 1], dtype=int32)"
      ]
     },
     "execution_count": 322,
     "metadata": {},
     "output_type": "execute_result"
    }
   ],
   "source": [
    "kmeans = KMeans(n_clusters=3, init = \"k-means++\", max_iter=100000000).fit(X_std)\n",
    "cluster_labels = kmeans.labels_\n",
    "cluster_labels"
   ]
  },
  {
   "cell_type": "code",
   "execution_count": 323,
   "metadata": {},
   "outputs": [],
   "source": [
    "dataframe = pd.DataFrame({'k_means': cluster_labels, 'Class': y})"
   ]
  },
  {
   "cell_type": "code",
   "execution_count": 324,
   "metadata": {},
   "outputs": [],
   "source": [
    "df_reduced = dataframe.groupby(['k_means', 'Class']).size()"
   ]
  },
  {
   "cell_type": "code",
   "execution_count": 325,
   "metadata": {
    "scrolled": true
   },
   "outputs": [
    {
     "data": {
      "text/plain": [
       "k_means  Class\n",
       "0        0        83\n",
       "         1        78\n",
       "1        0        39\n",
       "         1        42\n",
       "2        0        92\n",
       "         1        90\n",
       "dtype: int64"
      ]
     },
     "execution_count": 325,
     "metadata": {},
     "output_type": "execute_result"
    }
   ],
   "source": [
    "df_reduced"
   ]
  },
  {
   "cell_type": "code",
   "execution_count": null,
   "metadata": {},
   "outputs": [],
   "source": []
  },
  {
   "cell_type": "code",
   "execution_count": null,
   "metadata": {},
   "outputs": [],
   "source": []
  }
 ],
 "metadata": {
  "kernelspec": {
   "display_name": "Python 3",
   "language": "python",
   "name": "python3"
  },
  "language_info": {
   "codemirror_mode": {
    "name": "ipython",
    "version": 3
   },
   "file_extension": ".py",
   "mimetype": "text/x-python",
   "name": "python",
   "nbconvert_exporter": "python",
   "pygments_lexer": "ipython3",
   "version": "3.7.3"
  }
 },
 "nbformat": 4,
 "nbformat_minor": 2
}
